{
 "cells": [
  {
   "cell_type": "code",
   "execution_count": 86,
   "metadata": {},
   "outputs": [],
   "source": [
    "import pandas as pd\n",
    "import numpy as np\n",
    "import matplotlib.pyplot as plt\n",
    "import seaborn as sns\n",
    "\n",
    "from sklearn import tree\n",
    "from sklearn.ensemble import RandomForestClassifier\n",
    "from sklearn.model_selection import train_test_split, cross_val_score, GridSearchCV\n",
    "from sklearn.metrics import accuracy_score, roc_auc_score, plot_confusion_matrix, precision_score, recall_score\n",
    "from sklearn.linear_model import LogisticRegression\n",
    "\n",
    "from scipy.stats import chisquare"
   ]
  },
  {
   "cell_type": "markdown",
   "metadata": {},
   "source": [
    "## Данные"
   ]
  },
  {
   "cell_type": "markdown",
   "metadata": {},
   "source": [
    "Переменные, характеризующие кредитную историю клиента\n",
    "- closed_cred_sum - сумма, которую клиент выплатил по ранее взятым и закрытым кредитам\n",
    "- closed_creds - количество закрытых кредитов\n",
    "- active_cred_sum_overdue - суммарная задолженность по активным кредитам\n",
    "- active_cred_sum - сумма всех активных кредитов\n",
    "- active_cred_day_overdue - суммарная просрочка в днях по всем активным кредитам\n",
    "- active_cred_max_overdue - максимальная сумма просроченной задолженности по активным кредитам\n",
    "\n",
    "Переменные характеризующие клиента\n",
    "- age - возраст\n",
    "- gender - пол\n",
    "- region - регион\n",
    "- month_income - ежемесячный доход\n",
    "\n",
    "Переменные, характеризующие кредит, по которому нужно сделать прогноз\n",
    "- first_loan - сумма, которую клиент хочет получить в кредит (из заявки)\n",
    "- first_days_quant - срок, на которую клиент хочет взять кредит\n",
    "- loan_cost_all - одобренная клиенту сумма кредита\n",
    "- order_date - дата подачи заявки на получение кредита\n",
    "- cost_all - сумма всех выплат по одобренному кредиту\n",
    "- order_id - id заявки\n",
    "- client_id - id клиента\n",
    "\n",
    "Целевая переменная:\n",
    "- expert - решение, которое принято по заявке (0 - одобрено, 1 - отклонено)\n",
    "\n",
    "Задача: построить модель для предсказания целевой переменной"
   ]
  },
  {
   "cell_type": "markdown",
   "metadata": {},
   "source": [
    "## Фильтрация"
   ]
  },
  {
   "cell_type": "code",
   "execution_count": 2,
   "metadata": {},
   "outputs": [
    {
     "data": {
      "text/plain": [
       "(50001, 18)"
      ]
     },
     "execution_count": 2,
     "metadata": {},
     "output_type": "execute_result"
    }
   ],
   "source": [
    "df = pd.read_csv('data.csv', delimiter=';')\n",
    "df.shape"
   ]
  },
  {
   "cell_type": "code",
   "execution_count": 3,
   "metadata": {},
   "outputs": [
    {
     "data": {
      "text/html": [
       "<div>\n",
       "<style scoped>\n",
       "    .dataframe tbody tr th:only-of-type {\n",
       "        vertical-align: middle;\n",
       "    }\n",
       "\n",
       "    .dataframe tbody tr th {\n",
       "        vertical-align: top;\n",
       "    }\n",
       "\n",
       "    .dataframe thead th {\n",
       "        text-align: right;\n",
       "    }\n",
       "</style>\n",
       "<table border=\"1\" class=\"dataframe\">\n",
       "  <thead>\n",
       "    <tr style=\"text-align: right;\">\n",
       "      <th></th>\n",
       "      <th>closed_cred_sum</th>\n",
       "      <th>closed_creds</th>\n",
       "      <th>active_cred_sum_overdue</th>\n",
       "      <th>active_cred_sum</th>\n",
       "      <th>active_cred_day_overdue</th>\n",
       "      <th>active_cred_max_overdue</th>\n",
       "      <th>age</th>\n",
       "      <th>gender</th>\n",
       "      <th>region</th>\n",
       "      <th>first_loan</th>\n",
       "      <th>loan_cost_all</th>\n",
       "      <th>first_days_quant</th>\n",
       "      <th>month_income</th>\n",
       "      <th>order_date</th>\n",
       "      <th>cost_all</th>\n",
       "      <th>order_id</th>\n",
       "      <th>client_id</th>\n",
       "      <th>expert</th>\n",
       "    </tr>\n",
       "  </thead>\n",
       "  <tbody>\n",
       "    <tr>\n",
       "      <th>0</th>\n",
       "      <td>143822.0</td>\n",
       "      <td>22</td>\n",
       "      <td>104.12</td>\n",
       "      <td>130068.80</td>\n",
       "      <td>8</td>\n",
       "      <td>756.09</td>\n",
       "      <td>31</td>\n",
       "      <td>0</td>\n",
       "      <td>36</td>\n",
       "      <td>10000.0</td>\n",
       "      <td>10000</td>\n",
       "      <td>196</td>\n",
       "      <td>0.0</td>\n",
       "      <td>2017-07-23</td>\n",
       "      <td>0.0</td>\n",
       "      <td>728319</td>\n",
       "      <td>320464</td>\n",
       "      <td>1</td>\n",
       "    </tr>\n",
       "    <tr>\n",
       "      <th>1</th>\n",
       "      <td>0.0</td>\n",
       "      <td>0</td>\n",
       "      <td>38151.93</td>\n",
       "      <td>46230.00</td>\n",
       "      <td>1492</td>\n",
       "      <td>38151.93</td>\n",
       "      <td>51</td>\n",
       "      <td>0</td>\n",
       "      <td>93</td>\n",
       "      <td>10000.0</td>\n",
       "      <td>10000</td>\n",
       "      <td>17</td>\n",
       "      <td>20000.0</td>\n",
       "      <td>2017-07-23</td>\n",
       "      <td>0.0</td>\n",
       "      <td>728321</td>\n",
       "      <td>320466</td>\n",
       "      <td>1</td>\n",
       "    </tr>\n",
       "    <tr>\n",
       "      <th>2</th>\n",
       "      <td>51356.0</td>\n",
       "      <td>2</td>\n",
       "      <td>3000.00</td>\n",
       "      <td>3000.00</td>\n",
       "      <td>8</td>\n",
       "      <td>3000.00</td>\n",
       "      <td>28</td>\n",
       "      <td>1</td>\n",
       "      <td>3</td>\n",
       "      <td>10000.0</td>\n",
       "      <td>10000</td>\n",
       "      <td>84</td>\n",
       "      <td>0.0</td>\n",
       "      <td>2017-07-23</td>\n",
       "      <td>0.0</td>\n",
       "      <td>728323</td>\n",
       "      <td>320467</td>\n",
       "      <td>1</td>\n",
       "    </tr>\n",
       "    <tr>\n",
       "      <th>3</th>\n",
       "      <td>0.0</td>\n",
       "      <td>0</td>\n",
       "      <td>22784.19</td>\n",
       "      <td>32103.52</td>\n",
       "      <td>913</td>\n",
       "      <td>22784.19</td>\n",
       "      <td>28</td>\n",
       "      <td>0</td>\n",
       "      <td>52</td>\n",
       "      <td>10000.0</td>\n",
       "      <td>10000</td>\n",
       "      <td>7</td>\n",
       "      <td>0.0</td>\n",
       "      <td>2017-07-23</td>\n",
       "      <td>0.0</td>\n",
       "      <td>728447</td>\n",
       "      <td>320533</td>\n",
       "      <td>1</td>\n",
       "    </tr>\n",
       "    <tr>\n",
       "      <th>4</th>\n",
       "      <td>12298.0</td>\n",
       "      <td>1</td>\n",
       "      <td>4942.95</td>\n",
       "      <td>4950.00</td>\n",
       "      <td>2883</td>\n",
       "      <td>4942.95</td>\n",
       "      <td>31</td>\n",
       "      <td>0</td>\n",
       "      <td>47</td>\n",
       "      <td>5000.0</td>\n",
       "      <td>5000</td>\n",
       "      <td>20</td>\n",
       "      <td>0.0</td>\n",
       "      <td>2017-07-23</td>\n",
       "      <td>0.0</td>\n",
       "      <td>728421</td>\n",
       "      <td>298598</td>\n",
       "      <td>1</td>\n",
       "    </tr>\n",
       "  </tbody>\n",
       "</table>\n",
       "</div>"
      ],
      "text/plain": [
       "   closed_cred_sum  closed_creds  active_cred_sum_overdue  active_cred_sum  \\\n",
       "0         143822.0            22                   104.12        130068.80   \n",
       "1              0.0             0                 38151.93         46230.00   \n",
       "2          51356.0             2                  3000.00          3000.00   \n",
       "3              0.0             0                 22784.19         32103.52   \n",
       "4          12298.0             1                  4942.95          4950.00   \n",
       "\n",
       "   active_cred_day_overdue  active_cred_max_overdue  age  gender  region  \\\n",
       "0                        8                   756.09   31       0      36   \n",
       "1                     1492                 38151.93   51       0      93   \n",
       "2                        8                  3000.00   28       1       3   \n",
       "3                      913                 22784.19   28       0      52   \n",
       "4                     2883                  4942.95   31       0      47   \n",
       "\n",
       "   first_loan  loan_cost_all  first_days_quant  month_income  order_date  \\\n",
       "0     10000.0          10000               196           0.0  2017-07-23   \n",
       "1     10000.0          10000                17       20000.0  2017-07-23   \n",
       "2     10000.0          10000                84           0.0  2017-07-23   \n",
       "3     10000.0          10000                 7           0.0  2017-07-23   \n",
       "4      5000.0           5000                20           0.0  2017-07-23   \n",
       "\n",
       "   cost_all  order_id  client_id  expert  \n",
       "0       0.0    728319     320464       1  \n",
       "1       0.0    728321     320466       1  \n",
       "2       0.0    728323     320467       1  \n",
       "3       0.0    728447     320533       1  \n",
       "4       0.0    728421     298598       1  "
      ]
     },
     "execution_count": 3,
     "metadata": {},
     "output_type": "execute_result"
    }
   ],
   "source": [
    "df.head()"
   ]
  },
  {
   "cell_type": "code",
   "execution_count": 4,
   "metadata": {},
   "outputs": [
    {
     "data": {
      "text/plain": [
       "closed_cred_sum             0\n",
       "closed_creds                0\n",
       "active_cred_sum_overdue     0\n",
       "active_cred_sum             0\n",
       "active_cred_day_overdue     0\n",
       "active_cred_max_overdue     0\n",
       "age                         0\n",
       "gender                      0\n",
       "region                      0\n",
       "first_loan                 19\n",
       "loan_cost_all               0\n",
       "first_days_quant            0\n",
       "month_income                0\n",
       "order_date                  0\n",
       "cost_all                    0\n",
       "order_id                    0\n",
       "client_id                   0\n",
       "expert                      0\n",
       "dtype: int64"
      ]
     },
     "execution_count": 4,
     "metadata": {},
     "output_type": "execute_result"
    }
   ],
   "source": [
    "df.isnull().sum()"
   ]
  },
  {
   "cell_type": "markdown",
   "metadata": {},
   "source": [
    "В данных всего 19 пропущенных значений по переменной first_loan, можно удалить их из выборки."
   ]
  },
  {
   "cell_type": "code",
   "execution_count": 5,
   "metadata": {},
   "outputs": [],
   "source": [
    "# удалим наблюдения с пропущенными значениями\n",
    "df.dropna(inplace=True)"
   ]
  },
  {
   "cell_type": "markdown",
   "metadata": {},
   "source": [
    "Некоторые переменные можно убрать из выборки, так как они очевидно не несут смысла и могут ухудшить качество прогноз."
   ]
  },
  {
   "cell_type": "markdown",
   "metadata": {},
   "source": [
    "#### Order_id"
   ]
  },
  {
   "cell_type": "markdown",
   "metadata": {},
   "source": [
    "Перед удалением order_id проверим, нет ли каких-то странностей с этой переменной."
   ]
  },
  {
   "cell_type": "code",
   "execution_count": 6,
   "metadata": {},
   "outputs": [
    {
     "data": {
      "image/png": "[encoded data removed]",
      "text/plain": [
       "<Figure size 432x288 with 1 Axes>"
      ]
     },
     "metadata": {
      "needs_background": "light"
     },
     "output_type": "display_data"
    }
   ],
   "source": [
    "df.groupby('order_id').order_id.count().sort_values().hist(grid=0)\n",
    "plt.title('order_id frequency')\n",
    "plt.show()"
   ]
  },
  {
   "cell_type": "markdown",
   "metadata": {},
   "source": [
    "Некоторые значения order_id встречаются больше одного раза. Это странно, ведь номер заявки должен быть уникальным."
   ]
  },
  {
   "cell_type": "code",
   "execution_count": 7,
   "metadata": {},
   "outputs": [
    {
     "data": {
      "text/plain": [
       "13554"
      ]
     },
     "execution_count": 7,
     "metadata": {},
     "output_type": "execute_result"
    }
   ],
   "source": [
    "# количество дубликатов\n",
    "df[df.duplicated(keep=False)].shape[0]"
   ]
  },
  {
   "cell_type": "markdown",
   "metadata": {},
   "source": [
    "Оказывается, в данных есть полные дубликаты. Они негативно влияют на качество модели, поэтому удаляем."
   ]
  },
  {
   "cell_type": "code",
   "execution_count": 8,
   "metadata": {},
   "outputs": [
    {
     "data": {
      "text/plain": [
       "172"
      ]
     },
     "execution_count": 8,
     "metadata": {},
     "output_type": "execute_result"
    }
   ],
   "source": [
    "# удалим дубликаты\n",
    "df.drop_duplicates(inplace=True)\n",
    "\n",
    "# количество дубликатов по order_id\n",
    "id_count = df.groupby('order_id').order_id.count()\n",
    "duplicate_index = id_count.where(id_count > 1).dropna().index\n",
    "df[df.order_id.isin(duplicate_index)].shape[0]"
   ]
  },
  {
   "cell_type": "markdown",
   "metadata": {},
   "source": [
    "После удаления дубликатов осталось несколько переменных. Получается, что некоторые наблюдения имеют одинаковые order_id, но различные значения других переменных."
   ]
  },
  {
   "cell_type": "code",
   "execution_count": 9,
   "metadata": {},
   "outputs": [
    {
     "data": {
      "text/plain": [
       "2"
      ]
     },
     "execution_count": 9,
     "metadata": {},
     "output_type": "execute_result"
    }
   ],
   "source": [
    "# максимальное количество одинаковых order_id\n",
    "id_count.max()"
   ]
  },
  {
   "cell_type": "code",
   "execution_count": 10,
   "metadata": {},
   "outputs": [
    {
     "data": {
      "text/html": [
       "<div>\n",
       "<style scoped>\n",
       "    .dataframe tbody tr th:only-of-type {\n",
       "        vertical-align: middle;\n",
       "    }\n",
       "\n",
       "    .dataframe tbody tr th {\n",
       "        vertical-align: top;\n",
       "    }\n",
       "\n",
       "    .dataframe thead th {\n",
       "        text-align: right;\n",
       "    }\n",
       "</style>\n",
       "<table border=\"1\" class=\"dataframe\">\n",
       "  <thead>\n",
       "    <tr style=\"text-align: right;\">\n",
       "      <th></th>\n",
       "      <th>closed_cred_sum</th>\n",
       "      <th>closed_creds</th>\n",
       "      <th>active_cred_sum_overdue</th>\n",
       "      <th>active_cred_sum</th>\n",
       "      <th>active_cred_day_overdue</th>\n",
       "      <th>active_cred_max_overdue</th>\n",
       "      <th>age</th>\n",
       "      <th>gender</th>\n",
       "      <th>region</th>\n",
       "      <th>first_loan</th>\n",
       "      <th>loan_cost_all</th>\n",
       "      <th>first_days_quant</th>\n",
       "      <th>month_income</th>\n",
       "      <th>order_date</th>\n",
       "      <th>cost_all</th>\n",
       "      <th>order_id</th>\n",
       "      <th>client_id</th>\n",
       "      <th>expert</th>\n",
       "    </tr>\n",
       "  </thead>\n",
       "  <tbody>\n",
       "    <tr>\n",
       "      <th>1227</th>\n",
       "      <td>137132.0</td>\n",
       "      <td>9</td>\n",
       "      <td>0.0</td>\n",
       "      <td>1500.00</td>\n",
       "      <td>0</td>\n",
       "      <td>0.0</td>\n",
       "      <td>28</td>\n",
       "      <td>0</td>\n",
       "      <td>11</td>\n",
       "      <td>5000.0</td>\n",
       "      <td>5000</td>\n",
       "      <td>56</td>\n",
       "      <td>0.0</td>\n",
       "      <td>2017-09-23</td>\n",
       "      <td>0.0</td>\n",
       "      <td>826660</td>\n",
       "      <td>381507</td>\n",
       "      <td>1</td>\n",
       "    </tr>\n",
       "    <tr>\n",
       "      <th>1228</th>\n",
       "      <td>137132.0</td>\n",
       "      <td>9</td>\n",
       "      <td>0.0</td>\n",
       "      <td>0.00</td>\n",
       "      <td>0</td>\n",
       "      <td>0.0</td>\n",
       "      <td>28</td>\n",
       "      <td>0</td>\n",
       "      <td>11</td>\n",
       "      <td>5000.0</td>\n",
       "      <td>5000</td>\n",
       "      <td>56</td>\n",
       "      <td>0.0</td>\n",
       "      <td>2017-09-23</td>\n",
       "      <td>0.0</td>\n",
       "      <td>826660</td>\n",
       "      <td>381507</td>\n",
       "      <td>1</td>\n",
       "    </tr>\n",
       "    <tr>\n",
       "      <th>1286</th>\n",
       "      <td>51000.0</td>\n",
       "      <td>3</td>\n",
       "      <td>0.0</td>\n",
       "      <td>219000.00</td>\n",
       "      <td>0</td>\n",
       "      <td>9749.5</td>\n",
       "      <td>48</td>\n",
       "      <td>1</td>\n",
       "      <td>77</td>\n",
       "      <td>3000.0</td>\n",
       "      <td>3000</td>\n",
       "      <td>21</td>\n",
       "      <td>0.0</td>\n",
       "      <td>2017-09-23</td>\n",
       "      <td>0.0</td>\n",
       "      <td>827110</td>\n",
       "      <td>381901</td>\n",
       "      <td>1</td>\n",
       "    </tr>\n",
       "    <tr>\n",
       "      <th>1287</th>\n",
       "      <td>51000.0</td>\n",
       "      <td>3</td>\n",
       "      <td>0.0</td>\n",
       "      <td>219000.00</td>\n",
       "      <td>0</td>\n",
       "      <td>9749.5</td>\n",
       "      <td>48</td>\n",
       "      <td>1</td>\n",
       "      <td>45</td>\n",
       "      <td>3000.0</td>\n",
       "      <td>3000</td>\n",
       "      <td>21</td>\n",
       "      <td>0.0</td>\n",
       "      <td>2017-09-23</td>\n",
       "      <td>0.0</td>\n",
       "      <td>827110</td>\n",
       "      <td>381901</td>\n",
       "      <td>1</td>\n",
       "    </tr>\n",
       "    <tr>\n",
       "      <th>1307</th>\n",
       "      <td>0.0</td>\n",
       "      <td>0</td>\n",
       "      <td>0.0</td>\n",
       "      <td>16958.49</td>\n",
       "      <td>0</td>\n",
       "      <td>0.0</td>\n",
       "      <td>32</td>\n",
       "      <td>0</td>\n",
       "      <td>65</td>\n",
       "      <td>2000.0</td>\n",
       "      <td>2000</td>\n",
       "      <td>14</td>\n",
       "      <td>0.0</td>\n",
       "      <td>2017-09-23</td>\n",
       "      <td>0.0</td>\n",
       "      <td>827129</td>\n",
       "      <td>381917</td>\n",
       "      <td>1</td>\n",
       "    </tr>\n",
       "    <tr>\n",
       "      <th>1308</th>\n",
       "      <td>0.0</td>\n",
       "      <td>0</td>\n",
       "      <td>0.0</td>\n",
       "      <td>16958.49</td>\n",
       "      <td>0</td>\n",
       "      <td>0.0</td>\n",
       "      <td>32</td>\n",
       "      <td>0</td>\n",
       "      <td>80</td>\n",
       "      <td>2000.0</td>\n",
       "      <td>2000</td>\n",
       "      <td>14</td>\n",
       "      <td>0.0</td>\n",
       "      <td>2017-09-23</td>\n",
       "      <td>0.0</td>\n",
       "      <td>827129</td>\n",
       "      <td>381917</td>\n",
       "      <td>1</td>\n",
       "    </tr>\n",
       "  </tbody>\n",
       "</table>\n",
       "</div>"
      ],
      "text/plain": [
       "      closed_cred_sum  closed_creds  active_cred_sum_overdue  active_cred_sum  \\\n",
       "1227         137132.0             9                      0.0          1500.00   \n",
       "1228         137132.0             9                      0.0             0.00   \n",
       "1286          51000.0             3                      0.0        219000.00   \n",
       "1287          51000.0             3                      0.0        219000.00   \n",
       "1307              0.0             0                      0.0         16958.49   \n",
       "1308              0.0             0                      0.0         16958.49   \n",
       "\n",
       "      active_cred_day_overdue  active_cred_max_overdue  age  gender  region  \\\n",
       "1227                        0                      0.0   28       0      11   \n",
       "1228                        0                      0.0   28       0      11   \n",
       "1286                        0                   9749.5   48       1      77   \n",
       "1287                        0                   9749.5   48       1      45   \n",
       "1307                        0                      0.0   32       0      65   \n",
       "1308                        0                      0.0   32       0      80   \n",
       "\n",
       "      first_loan  loan_cost_all  first_days_quant  month_income  order_date  \\\n",
       "1227      5000.0           5000                56           0.0  2017-09-23   \n",
       "1228      5000.0           5000                56           0.0  2017-09-23   \n",
       "1286      3000.0           3000                21           0.0  2017-09-23   \n",
       "1287      3000.0           3000                21           0.0  2017-09-23   \n",
       "1307      2000.0           2000                14           0.0  2017-09-23   \n",
       "1308      2000.0           2000                14           0.0  2017-09-23   \n",
       "\n",
       "      cost_all  order_id  client_id  expert  \n",
       "1227       0.0    826660     381507       1  \n",
       "1228       0.0    826660     381507       1  \n",
       "1286       0.0    827110     381901       1  \n",
       "1287       0.0    827110     381901       1  \n",
       "1307       0.0    827129     381917       1  \n",
       "1308       0.0    827129     381917       1  "
      ]
     },
     "execution_count": 10,
     "metadata": {},
     "output_type": "execute_result"
    }
   ],
   "source": [
    "df[df.order_id.isin(duplicate_index)].head(6)"
   ]
  },
  {
   "cell_type": "markdown",
   "metadata": {},
   "source": [
    "Судя по первым 6 наблюдениям, строки с одинаковыми order_id отличаются значениями только одной переменной. Скорее всего, одно из наблюдений было введено с ошибкой, а другое является его исправленной версией. Неизвестно, какое из двух корректно (можно предположить, что второе, потому что даты идут в порядке возрастания), поэтому удалим все."
   ]
  },
  {
   "cell_type": "code",
   "execution_count": 11,
   "metadata": {},
   "outputs": [
    {
     "data": {
      "text/plain": [
       "42754"
      ]
     },
     "execution_count": 11,
     "metadata": {},
     "output_type": "execute_result"
    }
   ],
   "source": [
    "df = df[~df.order_id.isin(duplicate_index)]\n",
    "df.shape[0]"
   ]
  },
  {
   "cell_type": "markdown",
   "metadata": {},
   "source": [
    "Повторяющихся order_id в данных не осталось. Теперь можно удалить переменную, она не несет никакого смысла."
   ]
  },
  {
   "cell_type": "markdown",
   "metadata": {},
   "source": [
    "### client_id"
   ]
  },
  {
   "cell_type": "markdown",
   "metadata": {},
   "source": [
    "Проверим client_id на наличие аномалий."
   ]
  },
  {
   "cell_type": "code",
   "execution_count": 12,
   "metadata": {},
   "outputs": [
    {
     "data": {
      "image/png": "[encoded data removed]",
      "text/plain": [
       "<Figure size 432x288 with 1 Axes>"
      ]
     },
     "metadata": {
      "needs_background": "light"
     },
     "output_type": "display_data"
    }
   ],
   "source": [
    "df.groupby('client_id').client_id.count().hist(grid=False)\n",
    "plt.show()"
   ]
  },
  {
   "cell_type": "markdown",
   "metadata": {},
   "source": [
    "Абсолютное большинство клиентов оставило одну заявку, но встречаются исключения (2-8 заявок)."
   ]
  },
  {
   "cell_type": "code",
   "execution_count": 13,
   "metadata": {},
   "outputs": [
    {
     "data": {
      "text/plain": [
       "5095"
      ]
     },
     "execution_count": 13,
     "metadata": {},
     "output_type": "execute_result"
    }
   ],
   "source": [
    "# количество клиентов с двумя и более заявками\n",
    "client_count = df.groupby('client_id').client_id.count()\n",
    "client_index = client_count.where(client_count > 1).dropna().index\n",
    "df[df.client_id.isin(client_index)].shape[0]"
   ]
  },
  {
   "cell_type": "code",
   "execution_count": 14,
   "metadata": {},
   "outputs": [
    {
     "name": "stdout",
     "output_type": "stream",
     "text": [
      "Средний процент отказов среди клиентов с двумя и более заявками: 0.374\n",
      "Средний процент отказов среди клиентов с одной заявкой: 0.788\n"
     ]
    }
   ],
   "source": [
    "one_order_mean = df[~df.client_id.isin(client_index)].expert.mean()\n",
    "several_order_mean = df[df.client_id.isin(client_index)].expert.mean()\n",
    "\n",
    "print('Средний процент отказов среди клиентов с двумя и более заявками:',\n",
    "      round(several_order_mean, 3))\n",
    "print('Средний процент отказов среди клиентов с одной заявкой:',\n",
    "      round(one_order_mean, 3))"
   ]
  },
  {
   "cell_type": "markdown",
   "metadata": {},
   "source": [
    "Клиенты с несколькими заявками значительно реже получают отказ. Возможно, клиенты успешно выплатившие кредит, чаще возвращаются за новым. И наоборот, клиенты, получившие отказ, реже подают новые заявки. Предположим, что количество поданных клиентом заявок не влияет на решение по кредиту и просто удалим переменную client_id."
   ]
  },
  {
   "cell_type": "markdown",
   "metadata": {},
   "source": [
    "### loan_cost_all"
   ]
  },
  {
   "cell_type": "markdown",
   "metadata": {},
   "source": [
    "Судя по описанию, переменная указывает на одобренную сумму кредита и актуальна только для уже одобренных кредитов."
   ]
  },
  {
   "cell_type": "code",
   "execution_count": 15,
   "metadata": {},
   "outputs": [
    {
     "data": {
      "image/png": "[encoded data removed]",
      "text/plain": [
       "<Figure size 432x288 with 1 Axes>"
      ]
     },
     "metadata": {
      "needs_background": "light"
     },
     "output_type": "display_data"
    }
   ],
   "source": [
    "# связь между запрошенной и одобренной суммой кредита\n",
    "sns.scatterplot(data=df, x='first_loan', y='loan_cost_all', hue='expert')\n",
    "plt.show()"
   ]
  },
  {
   "cell_type": "code",
   "execution_count": 16,
   "metadata": {},
   "outputs": [
    {
     "data": {
      "text/plain": [
       "expert\n",
       "0    4160.008937\n",
       "1       7.666962\n",
       "dtype: float64"
      ]
     },
     "execution_count": 16,
     "metadata": {},
     "output_type": "execute_result"
    }
   ],
   "source": [
    "# средняя разница между запрошенной и одобренной суммой кредита\n",
    "df.groupby('expert').apply(lambda x: np.mean(x.first_loan - x.loan_cost_all))"
   ]
  },
  {
   "cell_type": "markdown",
   "metadata": {},
   "source": [
    "Для отклоненных заявок переменные first_loan и loan_cost_all почти равны. Скорее всего, это просто специфика данных: для отказов в одобренную сумму (loan_cost_all) попадает сумма из заявки (first_loan). В таком случае правильнее было бы указывать 0 в loan_cost_all."
   ]
  },
  {
   "cell_type": "markdown",
   "metadata": {},
   "source": [
    "### cost_all"
   ]
  },
  {
   "cell_type": "markdown",
   "metadata": {},
   "source": [
    "Как и в предыдущем случае, переменная имеет смысл только для одобренных кредитов, так как указывает на сумму выплат по кредиту."
   ]
  },
  {
   "cell_type": "code",
   "execution_count": 17,
   "metadata": {},
   "outputs": [
    {
     "data": {
      "image/png": "[encoded data removed]",
      "text/plain": [
       "<Figure size 432x288 with 1 Axes>"
      ]
     },
     "metadata": {
      "needs_background": "light"
     },
     "output_type": "display_data"
    }
   ],
   "source": [
    "# связь между запрошенной суммой кредита и выплатами\n",
    "sns.scatterplot(data=df, x='first_loan', y='cost_all', hue='expert')\n",
    "plt.show()"
   ]
  },
  {
   "cell_type": "code",
   "execution_count": 18,
   "metadata": {},
   "outputs": [
    {
     "data": {
      "text/plain": [
       "expert\n",
       "0    5003.555907\n",
       "1       0.000000\n",
       "Name: cost_all, dtype: float64"
      ]
     },
     "execution_count": 18,
     "metadata": {},
     "output_type": "execute_result"
    }
   ],
   "source": [
    "# средняя разница между запрошенной суммой кредита и выплатами\n",
    "df.groupby('expert').cost_all.mean()"
   ]
  },
  {
   "cell_type": "markdown",
   "metadata": {},
   "source": [
    "Для отклоненных заявок переменная cost_all всегда равна нулю."
   ]
  },
  {
   "cell_type": "markdown",
   "metadata": {},
   "source": [
    "### Связь между cost_all и loan_cost_all"
   ]
  },
  {
   "cell_type": "code",
   "execution_count": 19,
   "metadata": {},
   "outputs": [],
   "source": [
    "# разница cost_all и loan_cost_all по группам\n",
    "accepted = df.groupby('expert').apply(lambda x: x.cost_all - x.loan_cost_all)[0]\n",
    "rejected = df.groupby('expert').apply(lambda x: x.cost_all - x.loan_cost_all)[1]"
   ]
  },
  {
   "cell_type": "code",
   "execution_count": 20,
   "metadata": {},
   "outputs": [
    {
     "data": {
      "image/png": "[encoded data removed]",
      "text/plain": [
       "<Figure size 432x288 with 1 Axes>"
      ]
     },
     "metadata": {
      "needs_background": "light"
     },
     "output_type": "display_data"
    }
   ],
   "source": [
    "plt.hist(rejected, bins=20)\n",
    "plt.title('Разность cost_all и loan_cost_all (отклоненные)')\n",
    "plt.xlabel('Разность')\n",
    "plt.ylabel('Частота')\n",
    "plt.show()"
   ]
  },
  {
   "cell_type": "markdown",
   "metadata": {},
   "source": [
    "Для отклоненных заявок аномалий нет. Сумма выплат по кредиту cost_all в этой группе всегда равна нулю, а значение loan_cost_all равно сумме из заявки."
   ]
  },
  {
   "cell_type": "code",
   "execution_count": 21,
   "metadata": {},
   "outputs": [
    {
     "data": {
      "image/png": "[encoded data removed]",
      "text/plain": [
       "<Figure size 432x288 with 1 Axes>"
      ]
     },
     "metadata": {
      "needs_background": "light"
     },
     "output_type": "display_data"
    }
   ],
   "source": [
    "plt.hist(accepted, bins=20)\n",
    "plt.title('Разность cost_all и loan_cost_all (одобренные)')\n",
    "plt.xlabel('Разность')\n",
    "plt.ylabel('Частота')\n",
    "plt.show()"
   ]
  },
  {
   "cell_type": "markdown",
   "metadata": {},
   "source": [
    "Для некоторых наблюдений разность cost_all и loan_cost_all отрицательна, то есть клиент выплатил меньше, чем взял."
   ]
  },
  {
   "cell_type": "code",
   "execution_count": 22,
   "metadata": {},
   "outputs": [
    {
     "data": {
      "text/html": [
       "<div>\n",
       "<style scoped>\n",
       "    .dataframe tbody tr th:only-of-type {\n",
       "        vertical-align: middle;\n",
       "    }\n",
       "\n",
       "    .dataframe tbody tr th {\n",
       "        vertical-align: top;\n",
       "    }\n",
       "\n",
       "    .dataframe thead th {\n",
       "        text-align: right;\n",
       "    }\n",
       "</style>\n",
       "<table border=\"1\" class=\"dataframe\">\n",
       "  <thead>\n",
       "    <tr style=\"text-align: right;\">\n",
       "      <th></th>\n",
       "      <th>closed_cred_sum</th>\n",
       "      <th>closed_creds</th>\n",
       "      <th>active_cred_sum_overdue</th>\n",
       "      <th>active_cred_sum</th>\n",
       "      <th>active_cred_day_overdue</th>\n",
       "      <th>active_cred_max_overdue</th>\n",
       "      <th>age</th>\n",
       "      <th>gender</th>\n",
       "      <th>region</th>\n",
       "      <th>first_loan</th>\n",
       "      <th>loan_cost_all</th>\n",
       "      <th>first_days_quant</th>\n",
       "      <th>month_income</th>\n",
       "      <th>order_date</th>\n",
       "      <th>cost_all</th>\n",
       "      <th>order_id</th>\n",
       "      <th>client_id</th>\n",
       "      <th>expert</th>\n",
       "    </tr>\n",
       "  </thead>\n",
       "  <tbody>\n",
       "    <tr>\n",
       "      <th>5</th>\n",
       "      <td>786916.00</td>\n",
       "      <td>11</td>\n",
       "      <td>0.0</td>\n",
       "      <td>1063763.0</td>\n",
       "      <td>0</td>\n",
       "      <td>10395.39</td>\n",
       "      <td>47</td>\n",
       "      <td>0</td>\n",
       "      <td>38</td>\n",
       "      <td>10000.0</td>\n",
       "      <td>5500</td>\n",
       "      <td>14</td>\n",
       "      <td>50000.0</td>\n",
       "      <td>2017-07-23</td>\n",
       "      <td>0.0</td>\n",
       "      <td>728526</td>\n",
       "      <td>320564</td>\n",
       "      <td>0</td>\n",
       "    </tr>\n",
       "    <tr>\n",
       "      <th>27</th>\n",
       "      <td>10000.00</td>\n",
       "      <td>1</td>\n",
       "      <td>0.0</td>\n",
       "      <td>69993.0</td>\n",
       "      <td>0</td>\n",
       "      <td>0.00</td>\n",
       "      <td>28</td>\n",
       "      <td>0</td>\n",
       "      <td>19</td>\n",
       "      <td>10000.0</td>\n",
       "      <td>1000</td>\n",
       "      <td>23</td>\n",
       "      <td>50000.0</td>\n",
       "      <td>2017-07-23</td>\n",
       "      <td>0.0</td>\n",
       "      <td>728543</td>\n",
       "      <td>320571</td>\n",
       "      <td>0</td>\n",
       "    </tr>\n",
       "    <tr>\n",
       "      <th>37</th>\n",
       "      <td>44897.62</td>\n",
       "      <td>9</td>\n",
       "      <td>2000.0</td>\n",
       "      <td>25000.0</td>\n",
       "      <td>9</td>\n",
       "      <td>2000.00</td>\n",
       "      <td>35</td>\n",
       "      <td>0</td>\n",
       "      <td>0</td>\n",
       "      <td>2000.0</td>\n",
       "      <td>1500</td>\n",
       "      <td>20</td>\n",
       "      <td>50000.0</td>\n",
       "      <td>2017-07-23</td>\n",
       "      <td>0.0</td>\n",
       "      <td>728732</td>\n",
       "      <td>221966</td>\n",
       "      <td>0</td>\n",
       "    </tr>\n",
       "    <tr>\n",
       "      <th>38</th>\n",
       "      <td>17075.00</td>\n",
       "      <td>1</td>\n",
       "      <td>0.0</td>\n",
       "      <td>75044.0</td>\n",
       "      <td>0</td>\n",
       "      <td>3066.73</td>\n",
       "      <td>26</td>\n",
       "      <td>0</td>\n",
       "      <td>36</td>\n",
       "      <td>5000.0</td>\n",
       "      <td>2500</td>\n",
       "      <td>19</td>\n",
       "      <td>35000.0</td>\n",
       "      <td>2017-07-23</td>\n",
       "      <td>0.0</td>\n",
       "      <td>728735</td>\n",
       "      <td>320659</td>\n",
       "      <td>0</td>\n",
       "    </tr>\n",
       "    <tr>\n",
       "      <th>46</th>\n",
       "      <td>61000.00</td>\n",
       "      <td>5</td>\n",
       "      <td>6755.9</td>\n",
       "      <td>580001.0</td>\n",
       "      <td>41</td>\n",
       "      <td>12614.43</td>\n",
       "      <td>35</td>\n",
       "      <td>1</td>\n",
       "      <td>0</td>\n",
       "      <td>10000.0</td>\n",
       "      <td>3000</td>\n",
       "      <td>14</td>\n",
       "      <td>0.0</td>\n",
       "      <td>2017-07-24</td>\n",
       "      <td>0.0</td>\n",
       "      <td>729135</td>\n",
       "      <td>171238</td>\n",
       "      <td>0</td>\n",
       "    </tr>\n",
       "  </tbody>\n",
       "</table>\n",
       "</div>"
      ],
      "text/plain": [
       "    closed_cred_sum  closed_creds  active_cred_sum_overdue  active_cred_sum  \\\n",
       "5         786916.00            11                      0.0        1063763.0   \n",
       "27         10000.00             1                      0.0          69993.0   \n",
       "37         44897.62             9                   2000.0          25000.0   \n",
       "38         17075.00             1                      0.0          75044.0   \n",
       "46         61000.00             5                   6755.9         580001.0   \n",
       "\n",
       "    active_cred_day_overdue  active_cred_max_overdue  age  gender  region  \\\n",
       "5                         0                 10395.39   47       0      38   \n",
       "27                        0                     0.00   28       0      19   \n",
       "37                        9                  2000.00   35       0       0   \n",
       "38                        0                  3066.73   26       0      36   \n",
       "46                       41                 12614.43   35       1       0   \n",
       "\n",
       "    first_loan  loan_cost_all  first_days_quant  month_income  order_date  \\\n",
       "5      10000.0           5500                14       50000.0  2017-07-23   \n",
       "27     10000.0           1000                23       50000.0  2017-07-23   \n",
       "37      2000.0           1500                20       50000.0  2017-07-23   \n",
       "38      5000.0           2500                19       35000.0  2017-07-23   \n",
       "46     10000.0           3000                14           0.0  2017-07-24   \n",
       "\n",
       "    cost_all  order_id  client_id  expert  \n",
       "5        0.0    728526     320564       0  \n",
       "27       0.0    728543     320571       0  \n",
       "37       0.0    728732     221966       0  \n",
       "38       0.0    728735     320659       0  \n",
       "46       0.0    729135     171238       0  "
      ]
     },
     "execution_count": 22,
     "metadata": {},
     "output_type": "execute_result"
    }
   ],
   "source": [
    "df_cost_all_check = df.query('(cost_all < loan_cost_all) & (expert == 0)')\n",
    "df_cost_all_check.head()"
   ]
  },
  {
   "cell_type": "markdown",
   "metadata": {},
   "source": [
    "Может быть три объяснения, почему у некоторых одобренных заявок значение cost_all равно нулю:\n",
    "- Клиент взял кредит и не выплатил его\n",
    "- Заявка была одобрена, но клиент не взял деньги\n",
    "- Ошибка в данных\n",
    "\n",
    "В первом случае можно заменить значение целевой переменной на 1, во втором - оставить наблюдения без каких-либо изменений, в третьем - удалить наблюдения из выборки."
   ]
  },
  {
   "cell_type": "code",
   "execution_count": 23,
   "metadata": {},
   "outputs": [],
   "source": [
    "df = df[~df.index.isin(df_cost_all_check.index)]"
   ]
  },
  {
   "cell_type": "markdown",
   "metadata": {},
   "source": [
    "Поскольку реальная причина неизвестна, на всякий случай удалим наблюдения из выборки."
   ]
  },
  {
   "cell_type": "markdown",
   "metadata": {},
   "source": [
    "### order_date"
   ]
  },
  {
   "cell_type": "markdown",
   "metadata": {},
   "source": [
    "Скорее всего, дата подачи заявки никак не влияет на решение, поэтому переменную можно удалить."
   ]
  },
  {
   "cell_type": "code",
   "execution_count": 24,
   "metadata": {},
   "outputs": [],
   "source": [
    "dt = pd.to_datetime(df.order_date)"
   ]
  },
  {
   "cell_type": "code",
   "execution_count": 25,
   "metadata": {},
   "outputs": [
    {
     "data": {
      "image/png": "[encoded data removed]",
      "text/plain": [
       "<Figure size 504x288 with 1 Axes>"
      ]
     },
     "metadata": {
      "needs_background": "light"
     },
     "output_type": "display_data"
    }
   ],
   "source": [
    "# распределение поданных заявок по дате\n",
    "dt.hist(bins=30, grid=False, figsize=(7, 4))\n",
    "plt.xticks(rotation=15)\n",
    "plt.show()"
   ]
  },
  {
   "cell_type": "markdown",
   "metadata": {},
   "source": [
    "После 15-08-2017 количество заявок упало почти до нуля. При предсказании целевой переменной это никак не поможет, но интересна причина такого распределения."
   ]
  },
  {
   "cell_type": "markdown",
   "metadata": {},
   "source": [
    "## Преобразование переменных"
   ]
  },
  {
   "cell_type": "code",
   "execution_count": 26,
   "metadata": {},
   "outputs": [],
   "source": [
    "X = df.drop(columns={'client_id', 'order_id', 'cost_all', 'loan_cost_all', 'order_date', 'expert'})\n",
    "y = df.expert"
   ]
  },
  {
   "cell_type": "code",
   "execution_count": 27,
   "metadata": {},
   "outputs": [
    {
     "data": {
      "text/html": [
       "<div>\n",
       "<style scoped>\n",
       "    .dataframe tbody tr th:only-of-type {\n",
       "        vertical-align: middle;\n",
       "    }\n",
       "\n",
       "    .dataframe tbody tr th {\n",
       "        vertical-align: top;\n",
       "    }\n",
       "\n",
       "    .dataframe thead th {\n",
       "        text-align: right;\n",
       "    }\n",
       "</style>\n",
       "<table border=\"1\" class=\"dataframe\">\n",
       "  <thead>\n",
       "    <tr style=\"text-align: right;\">\n",
       "      <th></th>\n",
       "      <th>closed_cred_sum</th>\n",
       "      <th>closed_creds</th>\n",
       "      <th>active_cred_sum_overdue</th>\n",
       "      <th>active_cred_sum</th>\n",
       "      <th>active_cred_day_overdue</th>\n",
       "      <th>active_cred_max_overdue</th>\n",
       "      <th>age</th>\n",
       "      <th>gender</th>\n",
       "      <th>region</th>\n",
       "      <th>first_loan</th>\n",
       "      <th>first_days_quant</th>\n",
       "      <th>month_income</th>\n",
       "    </tr>\n",
       "  </thead>\n",
       "  <tbody>\n",
       "    <tr>\n",
       "      <th>count</th>\n",
       "      <td>39639.00</td>\n",
       "      <td>39639.00</td>\n",
       "      <td>39639.00</td>\n",
       "      <td>39639.00</td>\n",
       "      <td>39639.00</td>\n",
       "      <td>39639.00</td>\n",
       "      <td>39639.00</td>\n",
       "      <td>39639.00</td>\n",
       "      <td>39639.00</td>\n",
       "      <td>39639.00</td>\n",
       "      <td>39639.00</td>\n",
       "      <td>39639.00</td>\n",
       "    </tr>\n",
       "    <tr>\n",
       "      <th>mean</th>\n",
       "      <td>175319.19</td>\n",
       "      <td>7.62</td>\n",
       "      <td>51622.93</td>\n",
       "      <td>184437.73</td>\n",
       "      <td>733.21</td>\n",
       "      <td>37523.36</td>\n",
       "      <td>34.82</td>\n",
       "      <td>0.46</td>\n",
       "      <td>28.54</td>\n",
       "      <td>7610.16</td>\n",
       "      <td>24.58</td>\n",
       "      <td>24991.50</td>\n",
       "    </tr>\n",
       "    <tr>\n",
       "      <th>std</th>\n",
       "      <td>512804.53</td>\n",
       "      <td>13.81</td>\n",
       "      <td>253837.51</td>\n",
       "      <td>416956.35</td>\n",
       "      <td>1365.64</td>\n",
       "      <td>173989.00</td>\n",
       "      <td>11.24</td>\n",
       "      <td>0.50</td>\n",
       "      <td>29.76</td>\n",
       "      <td>5300.13</td>\n",
       "      <td>39.03</td>\n",
       "      <td>20607.67</td>\n",
       "    </tr>\n",
       "    <tr>\n",
       "      <th>min</th>\n",
       "      <td>0.00</td>\n",
       "      <td>0.00</td>\n",
       "      <td>0.00</td>\n",
       "      <td>0.00</td>\n",
       "      <td>0.00</td>\n",
       "      <td>0.00</td>\n",
       "      <td>18.00</td>\n",
       "      <td>0.00</td>\n",
       "      <td>0.00</td>\n",
       "      <td>2000.00</td>\n",
       "      <td>7.00</td>\n",
       "      <td>0.00</td>\n",
       "    </tr>\n",
       "    <tr>\n",
       "      <th>25%</th>\n",
       "      <td>4954.55</td>\n",
       "      <td>1.00</td>\n",
       "      <td>0.00</td>\n",
       "      <td>13000.00</td>\n",
       "      <td>0.00</td>\n",
       "      <td>602.63</td>\n",
       "      <td>27.00</td>\n",
       "      <td>0.00</td>\n",
       "      <td>0.00</td>\n",
       "      <td>5000.00</td>\n",
       "      <td>10.00</td>\n",
       "      <td>0.00</td>\n",
       "    </tr>\n",
       "    <tr>\n",
       "      <th>50%</th>\n",
       "      <td>37890.00</td>\n",
       "      <td>3.00</td>\n",
       "      <td>5385.94</td>\n",
       "      <td>52422.00</td>\n",
       "      <td>80.00</td>\n",
       "      <td>7000.00</td>\n",
       "      <td>32.00</td>\n",
       "      <td>0.00</td>\n",
       "      <td>24.00</td>\n",
       "      <td>7000.00</td>\n",
       "      <td>19.00</td>\n",
       "      <td>25000.00</td>\n",
       "    </tr>\n",
       "    <tr>\n",
       "      <th>75%</th>\n",
       "      <td>157883.44</td>\n",
       "      <td>9.00</td>\n",
       "      <td>32297.34</td>\n",
       "      <td>182361.92</td>\n",
       "      <td>938.00</td>\n",
       "      <td>24852.75</td>\n",
       "      <td>40.00</td>\n",
       "      <td>1.00</td>\n",
       "      <td>52.00</td>\n",
       "      <td>10000.00</td>\n",
       "      <td>20.00</td>\n",
       "      <td>35000.00</td>\n",
       "    </tr>\n",
       "    <tr>\n",
       "      <th>max</th>\n",
       "      <td>44574209.38</td>\n",
       "      <td>563.00</td>\n",
       "      <td>33030999.24</td>\n",
       "      <td>22731655.24</td>\n",
       "      <td>21927.00</td>\n",
       "      <td>21701655.24</td>\n",
       "      <td>99.00</td>\n",
       "      <td>1.00</td>\n",
       "      <td>99.00</td>\n",
       "      <td>100000.00</td>\n",
       "      <td>336.00</td>\n",
       "      <td>550000.00</td>\n",
       "    </tr>\n",
       "  </tbody>\n",
       "</table>\n",
       "</div>"
      ],
      "text/plain": [
       "       closed_cred_sum  closed_creds  active_cred_sum_overdue  \\\n",
       "count         39639.00      39639.00                 39639.00   \n",
       "mean         175319.19          7.62                 51622.93   \n",
       "std          512804.53         13.81                253837.51   \n",
       "min               0.00          0.00                     0.00   \n",
       "25%            4954.55          1.00                     0.00   \n",
       "50%           37890.00          3.00                  5385.94   \n",
       "75%          157883.44          9.00                 32297.34   \n",
       "max        44574209.38        563.00              33030999.24   \n",
       "\n",
       "       active_cred_sum  active_cred_day_overdue  active_cred_max_overdue  \\\n",
       "count         39639.00                 39639.00                 39639.00   \n",
       "mean         184437.73                   733.21                 37523.36   \n",
       "std          416956.35                  1365.64                173989.00   \n",
       "min               0.00                     0.00                     0.00   \n",
       "25%           13000.00                     0.00                   602.63   \n",
       "50%           52422.00                    80.00                  7000.00   \n",
       "75%          182361.92                   938.00                 24852.75   \n",
       "max        22731655.24                 21927.00              21701655.24   \n",
       "\n",
       "            age    gender    region  first_loan  first_days_quant  \\\n",
       "count  39639.00  39639.00  39639.00    39639.00          39639.00   \n",
       "mean      34.82      0.46     28.54     7610.16             24.58   \n",
       "std       11.24      0.50     29.76     5300.13             39.03   \n",
       "min       18.00      0.00      0.00     2000.00              7.00   \n",
       "25%       27.00      0.00      0.00     5000.00             10.00   \n",
       "50%       32.00      0.00     24.00     7000.00             19.00   \n",
       "75%       40.00      1.00     52.00    10000.00             20.00   \n",
       "max       99.00      1.00     99.00   100000.00            336.00   \n",
       "\n",
       "       month_income  \n",
       "count      39639.00  \n",
       "mean       24991.50  \n",
       "std        20607.67  \n",
       "min            0.00  \n",
       "25%            0.00  \n",
       "50%        25000.00  \n",
       "75%        35000.00  \n",
       "max       550000.00  "
      ]
     },
     "execution_count": 27,
     "metadata": {},
     "output_type": "execute_result"
    }
   ],
   "source": [
    "X.describe().round(2)"
   ]
  },
  {
   "cell_type": "markdown",
   "metadata": {},
   "source": [
    "Скорее всего, данные принадлежат микрофинансовой организации.\n",
    "- Медианная сумма займа - 7 тыс.\n",
    "- В 75% случаев срок выплаты не превышает 20 дней"
   ]
  },
  {
   "cell_type": "code",
   "execution_count": 28,
   "metadata": {},
   "outputs": [
    {
     "data": {
      "image/png": "[encoded data removed]",
      "text/plain": [
       "<Figure size 936x720 with 12 Axes>"
      ]
     },
     "metadata": {
      "needs_background": "light"
     },
     "output_type": "display_data"
    }
   ],
   "source": [
    "# распределение переменных\n",
    "X.hist(figsize=(13, 10), grid=False)\n",
    "plt.show()"
   ]
  },
  {
   "cell_type": "markdown",
   "metadata": {},
   "source": [
    "Все непрерывные и дискретные переменные в данных имеют логнормальное распределение, что может негативно влиять на качество некоторых моделей (например, логистической регрессии). Преобразуем переменные в их натуральные логарифмы, чтобы распределение приблизилось к нормальному."
   ]
  },
  {
   "cell_type": "code",
   "execution_count": 29,
   "metadata": {},
   "outputs": [],
   "source": [
    "# разделим непрерывные/дискретные и категориальные переменные\n",
    "cat_vars = X.loc[:, ['gender', 'region']]\n",
    "cont_vars = X.drop(columns={'gender', 'region'})"
   ]
  },
  {
   "cell_type": "code",
   "execution_count": 30,
   "metadata": {},
   "outputs": [
    {
     "data": {
      "text/plain": [
       "closed_cred_sum               0.0\n",
       "closed_creds                  0.0\n",
       "active_cred_sum_overdue       0.0\n",
       "active_cred_sum               0.0\n",
       "active_cred_day_overdue       0.0\n",
       "active_cred_max_overdue       0.0\n",
       "age                          18.0\n",
       "first_loan                 2000.0\n",
       "first_days_quant              7.0\n",
       "month_income                  0.0\n",
       "dtype: float64"
      ]
     },
     "execution_count": 30,
     "metadata": {},
     "output_type": "execute_result"
    }
   ],
   "source": [
    "# минимальные значения переменных\n",
    "cont_vars.min()"
   ]
  },
  {
   "cell_type": "code",
   "execution_count": 31,
   "metadata": {},
   "outputs": [],
   "source": [
    "# заменим нули в данных на единицы для логарифмирования\n",
    "cont_vars.replace(0, 1, inplace=True)\n",
    "for i in cont_vars:\n",
    "    cont_vars[i] = np.log(cont_vars[i])"
   ]
  },
  {
   "cell_type": "code",
   "execution_count": 32,
   "metadata": {},
   "outputs": [
    {
     "data": {
      "image/png": "[encoded data removed]",
      "text/plain": [
       "<Figure size 936x720 with 12 Axes>"
      ]
     },
     "metadata": {
      "needs_background": "light"
     },
     "output_type": "display_data"
    }
   ],
   "source": [
    "cont_vars.hist(figsize=(13, 10), grid=0)\n",
    "plt.show()"
   ]
  },
  {
   "cell_type": "markdown",
   "metadata": {},
   "source": [
    "Распределения не стали нормальными, но хотя бы приблизились к этому."
   ]
  },
  {
   "cell_type": "code",
   "execution_count": 33,
   "metadata": {},
   "outputs": [
    {
     "data": {
      "text/plain": [
       "0.7962864855319256"
      ]
     },
     "execution_count": 33,
     "metadata": {},
     "output_type": "execute_result"
    }
   ],
   "source": [
    "# процент отклоненных заявок\n",
    "y.mean()"
   ]
  },
  {
   "cell_type": "code",
   "execution_count": 34,
   "metadata": {},
   "outputs": [
    {
     "data": {
      "text/plain": [
       "0.0"
      ]
     },
     "execution_count": 34,
     "metadata": {},
     "output_type": "execute_result"
    }
   ],
   "source": [
    "n_rej = y.count() * y.mean()\n",
    "n_acc = y.count() - n_rej\n",
    "n_exp = y.count() / 2\n",
    "\n",
    "chisquare([n_rej, n_acc], [n_exp, n_exp]).pvalue"
   ]
  },
  {
   "cell_type": "markdown",
   "metadata": {},
   "source": [
    "Наблюдается явная несбалансированность классов, нужно учитывать это при построении моделей."
   ]
  },
  {
   "cell_type": "markdown",
   "metadata": {},
   "source": [
    "## Логистическая регрессия"
   ]
  },
  {
   "cell_type": "code",
   "execution_count": 35,
   "metadata": {},
   "outputs": [],
   "source": [
    "# преобразуем переменную region в набор бинарных переменных\n",
    "regions = pd.get_dummies(cat_vars.region, prefix='region')\n",
    "\n",
    "# добавим категориальные переменные к основному набору\n",
    "X_logit = cont_vars.join(regions).join(cat_vars.gender)"
   ]
  },
  {
   "cell_type": "code",
   "execution_count": 36,
   "metadata": {},
   "outputs": [
    {
     "data": {
      "text/plain": [
       "LogisticRegression(class_weight='balanced', max_iter=2000)"
      ]
     },
     "execution_count": 36,
     "metadata": {},
     "output_type": "execute_result"
    }
   ],
   "source": [
    "# выделим 20% в обучающую выборку\n",
    "X_train, X_test, y_train, y_test = train_test_split(X_logit, y, test_size=0.2)\n",
    "\n",
    "lg = LogisticRegression(class_weight='balanced', max_iter=2000)\n",
    "lg.fit(X_train, y_train)"
   ]
  },
  {
   "cell_type": "code",
   "execution_count": 37,
   "metadata": {},
   "outputs": [
    {
     "data": {
      "image/png": "[encoded data removed]",
      "text/plain": [
       "<Figure size 432x288 with 2 Axes>"
      ]
     },
     "metadata": {
      "needs_background": "light"
     },
     "output_type": "display_data"
    }
   ],
   "source": [
    "plot_confusion_matrix(lg, X_test, y_test)\n",
    "plt.show()"
   ]
  },
  {
   "cell_type": "markdown",
   "metadata": {},
   "source": [
    "На тестовой выборке модель часто допускает ошибку второго рода (False Negative) - одобряет заявки, которые должны быть отклонены."
   ]
  },
  {
   "cell_type": "code",
   "execution_count": 38,
   "metadata": {},
   "outputs": [
    {
     "name": "stdout",
     "output_type": "stream",
     "text": [
      "ROC AUC: 0.8915588708679094\n",
      "Precision: 0.9460435033741252\n",
      "Recall: 0.7922323561516391\n"
     ]
    }
   ],
   "source": [
    "lg = LogisticRegression(class_weight='balanced', max_iter=2000)\n",
    "\n",
    "# проверим качество модели на кросс-валидации (cv=5)\n",
    "print('ROC AUC:', cross_val_score(lg, X_logit, y, scoring='roc_auc').mean())\n",
    "print('Precision:', cross_val_score(lg, X_logit, y, scoring='precision').mean())\n",
    "print('Recall:', cross_val_score(lg, X_logit, y, scoring='recall').mean())"
   ]
  },
  {
   "cell_type": "markdown",
   "metadata": {},
   "source": [
    "Главной целью задачи является наиболее полное определение объектов первого класса (отказ по заявке) - Recall. Ведь невозвращенный кредит является большой проблемой.\n",
    "\n",
    "Второстепенной целью будет точное определение объектов нулевого класса (одобрение заявки) - Precision. Отказывая клиентам, которые вернули бы кредит, организация теряет часть прибыли.\n",
    "\n",
    "Построенная логистическая регрессия отлично справляется с побочной задачей, но качество выполнения основной задачи невелико. Другими словами, модель крайне редко ошибается, отклоняя заявки, но с одобрением заявок есть проблемы."
   ]
  },
  {
   "cell_type": "markdown",
   "metadata": {},
   "source": [
    "## Случайный лес"
   ]
  },
  {
   "cell_type": "markdown",
   "metadata": {},
   "source": [
    "Попробуем решить задачу, используя более сложную модель. Случайный лес может находить нелинейные зависимости в данных, поэтому используем выборку без логарифмированных переменных. Тем не менее, необходимо привести переменную region к текстовому формату, иначе модель примет ее за дискретную. "
   ]
  },
  {
   "cell_type": "code",
   "execution_count": 60,
   "metadata": {},
   "outputs": [],
   "source": [
    "X_rf = df.drop(columns={'client_id', 'order_id', 'cost_all', 'loan_cost_all', 'order_date', 'expert'})\n",
    "X_rf.region = X_rf.region.astype(str)"
   ]
  },
  {
   "cell_type": "code",
   "execution_count": 65,
   "metadata": {},
   "outputs": [
    {
     "data": {
      "text/plain": [
       "RandomForestClassifier(class_weight='balanced')"
      ]
     },
     "execution_count": 65,
     "metadata": {},
     "output_type": "execute_result"
    }
   ],
   "source": [
    "# отделим 20% выборки для теста\n",
    "X_train, X_test, y_train, y_test = train_test_split(X_rf, y, test_size=0.2)\n",
    "\n",
    "rf = RandomForestClassifier(class_weight='balanced')\n",
    "rf.fit(X_train, y_train)"
   ]
  },
  {
   "cell_type": "code",
   "execution_count": 66,
   "metadata": {},
   "outputs": [
    {
     "data": {
      "image/png": "[encoded data removed]",
      "text/plain": [
       "<Figure size 432x288 with 2 Axes>"
      ]
     },
     "metadata": {
      "needs_background": "light"
     },
     "output_type": "display_data"
    }
   ],
   "source": [
    "plot_confusion_matrix(rf, X_test, y_test)\n",
    "plt.show()"
   ]
  },
  {
   "cell_type": "markdown",
   "metadata": {},
   "source": [
    "На тестовой выборке случайный лес показывает себя гораздо лучше, чем логистическая регрессия."
   ]
  },
  {
   "cell_type": "code",
   "execution_count": 67,
   "metadata": {},
   "outputs": [
    {
     "data": {
      "text/plain": [
       "[('month_income', 0.1432931616377621),\n",
       " ('age', 0.09824573724345441),\n",
       " ('first_days_quant', 0.09426677085208589),\n",
       " ('closed_creds', 0.09342767574820768),\n",
       " ('active_cred_sum_overdue', 0.09226601129620558),\n",
       " ('first_loan', 0.09145981603097371),\n",
       " ('closed_cred_sum', 0.08862441113993562),\n",
       " ('active_cred_day_overdue', 0.08441282620340841),\n",
       " ('active_cred_sum', 0.07507985472838088),\n",
       " ('region', 0.06676125912328841),\n",
       " ('active_cred_max_overdue', 0.06119560379849495),\n",
       " ('gender', 0.010966872197802324)]"
      ]
     },
     "execution_count": 67,
     "metadata": {},
     "output_type": "execute_result"
    }
   ],
   "source": [
    "sorted(list(zip(X_rf.columns, rf.feature_importances_)), key=lambda x: -x[1])"
   ]
  },
  {
   "cell_type": "markdown",
   "metadata": {},
   "source": [
    "Самыми важными переменными для модели являются доход в месяц, срок выплаты кредита и возраст заемщика."
   ]
  },
  {
   "cell_type": "code",
   "execution_count": 68,
   "metadata": {},
   "outputs": [
    {
     "name": "stdout",
     "output_type": "stream",
     "text": [
      "ROC AUC: 0.9362111398385202\n",
      "Precision: 0.9094920767116716\n",
      "Recall: 0.9605882012231787\n"
     ]
    }
   ],
   "source": [
    "rf = RandomForestClassifier(class_weight='balanced')\n",
    "\n",
    "# проверим качество модели на кросс-валидации (cv=5)\n",
    "print('ROC AUC:', cross_val_score(rf, X_rf, y, scoring='roc_auc').mean())\n",
    "print('Precision:', cross_val_score(rf, X_rf, y, scoring='precision').mean())\n",
    "print('Recall:', cross_val_score(rf, X_rf, y, scoring='recall').mean())"
   ]
  },
  {
   "cell_type": "markdown",
   "metadata": {},
   "source": [
    "Результат можно назвать удовлетворительным: модель довольно точно определяет объекты как первого, так и нулевого классов.\n",
    "\n",
    "Тем не менее, в кредитном скоринге важна интерпретируемость, а построенная модель слишком сложна для человеческого понимания. Возможно, имеет смысл изменить параметры - например, ограничить глубину деревьев. Это снизит точность модели, но сделает ее интерпретируемой."
   ]
  },
  {
   "cell_type": "code",
   "execution_count": 69,
   "metadata": {},
   "outputs": [
    {
     "data": {
      "text/plain": [
       "99"
      ]
     },
     "execution_count": 69,
     "metadata": {},
     "output_type": "execute_result"
    }
   ],
   "source": [
    "X.region.nunique()"
   ]
  },
  {
   "cell_type": "markdown",
   "metadata": {},
   "source": [
    "Категориальная переменная region принимает 99 значений, что сильно усложняет решающие деревья. Логичным решением будет использование отдельной модели для каждого из регионов."
   ]
  }
 ],
 "metadata": {
  "kernelspec": {
   "display_name": "Python 3",
   "language": "python",
   "name": "python3"
  },
  "language_info": {
   "codemirror_mode": {
    "name": "ipython",
    "version": 3
   },
   "file_extension": ".py",
   "mimetype": "text/x-python",
   "name": "python",
   "nbconvert_exporter": "python",
   "pygments_lexer": "ipython3",
   "version": "3.8.5"
  }
 },
 "nbformat": 4,
 "nbformat_minor": 4
}
